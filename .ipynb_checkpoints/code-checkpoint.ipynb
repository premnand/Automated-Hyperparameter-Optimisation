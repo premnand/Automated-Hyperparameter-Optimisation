{
 "cells": [
  {
   "cell_type": "markdown",
   "id": "fe3a1acb-6c9b-44c4-9914-b54d7f33c4f6",
   "metadata": {},
   "source": [
    "## Automated Hyperparameter optimisation"
   ]
  },
  {
   "cell_type": "markdown",
   "id": "3e7065f0-119f-4f52-a8f7-3eaafb5b33ea",
   "metadata": {},
   "source": [
    "1. **Introduction** – Overview of Hyperparameter Optimization\n",
    "2. **Data Preprocessing** – Loading and Cleaning Data\n",
    "3. **Baseline Model** – Training a simple RandomForest model\n",
    "4. **Manual Hyperparameter Tuning**\n",
    "5. **Automated Hyperparameter Optimization** Techniques\n",
    "    * **Grid Search**\n",
    "    * **Randomized Search**\n",
    "    * **Bayesian Optimization (Hyperopt)**\n",
    "    * **Sequential Model-Based Optimization (Skopt)**\n",
    "    * **Optuna**\n",
    "    * **Genetic Algorithm (TPOT)**\n",
    "6. **Conclusion** – Comparison of different methods"
   ]
  },
  {
   "cell_type": "markdown",
   "id": "f1d8a574-b213-4378-9043-ee958b4e1c0e",
   "metadata": {},
   "source": [
    "### Introduction\n",
    "\n",
    "Hyperparameter optimization is the process of finding the best set of hyperparameters for a machine learning model. Instead of manually tuning parameters, we use optimization techniques like Grid Search, Random Search, Bayesian Optimization, and Genetic Algorithms to find the best parameters efficiently.\n",
    "\n",
    "In this notebook, we will compare different hyperparameter tuning methods using a RandomForest classifier on the Diabetes dataset."
   ]
  },
  {
   "cell_type": "code",
   "execution_count": 1,
   "id": "403353e3-6351-4705-bb54-b9d8efd3fc03",
   "metadata": {},
   "outputs": [
    {
     "name": "stderr",
     "output_type": "stream",
     "text": [
      "C:\\Users\\user\\AppData\\Roaming\\Python\\Python312\\site-packages\\tpot\\builtins\\__init__.py:36: UserWarning: Warning: optional dependency `torch` is not available. - skipping import of NN models.\n",
      "  warnings.warn(\"Warning: optional dependency `torch` is not available. - skipping import of NN models.\")\n"
     ]
    }
   ],
   "source": [
    "# Import Libraries\n",
    "import numpy as np\n",
    "import pandas as pd\n",
    "import matplotlib.pyplot as plt\n",
    "import seaborn as sns\n",
    "from sklearn.model_selection import train_test_split, GridSearchCV, RandomizedSearchCV\n",
    "from sklearn.ensemble import RandomForestClassifier\n",
    "from sklearn.metrics import accuracy_score, roc_auc_score\n",
    "from hyperopt import fmin, tpe, hp, Trials\n",
    "from skopt import BayesSearchCV\n",
    "import optuna\n",
    "optuna.logging.set_verbosity(optuna.logging.ERROR)\n",
    "from tpot import TPOTClassifier\n",
    "from imblearn.over_sampling import SMOTE \n",
    "from sklearn.preprocessing import StandardScaler\n",
    "import warnings\n",
    "warnings.filterwarnings(\"ignore\")"
   ]
  },
  {
   "cell_type": "markdown",
   "id": "05ef4de6-adf2-4c13-8d89-1b0d49c77c8e",
   "metadata": {},
   "source": [
    "### Data Preprocessing"
   ]
  },
  {
   "cell_type": "code",
   "execution_count": 2,
   "id": "3eecb05e-a50b-4933-a7b9-84463f8017f3",
   "metadata": {},
   "outputs": [
    {
     "data": {
      "text/html": [
       "<div>\n",
       "<style scoped>\n",
       "    .dataframe tbody tr th:only-of-type {\n",
       "        vertical-align: middle;\n",
       "    }\n",
       "\n",
       "    .dataframe tbody tr th {\n",
       "        vertical-align: top;\n",
       "    }\n",
       "\n",
       "    .dataframe thead th {\n",
       "        text-align: right;\n",
       "    }\n",
       "</style>\n",
       "<table border=\"1\" class=\"dataframe\">\n",
       "  <thead>\n",
       "    <tr style=\"text-align: right;\">\n",
       "      <th></th>\n",
       "      <th>Pregnancies</th>\n",
       "      <th>Glucose</th>\n",
       "      <th>BloodPressure</th>\n",
       "      <th>SkinThickness</th>\n",
       "      <th>Insulin</th>\n",
       "      <th>BMI</th>\n",
       "      <th>DiabetesPedigreeFunction</th>\n",
       "      <th>Age</th>\n",
       "      <th>Outcome</th>\n",
       "    </tr>\n",
       "  </thead>\n",
       "  <tbody>\n",
       "    <tr>\n",
       "      <th>0</th>\n",
       "      <td>6</td>\n",
       "      <td>148</td>\n",
       "      <td>72</td>\n",
       "      <td>35</td>\n",
       "      <td>0</td>\n",
       "      <td>33.6</td>\n",
       "      <td>0.627</td>\n",
       "      <td>50</td>\n",
       "      <td>1</td>\n",
       "    </tr>\n",
       "    <tr>\n",
       "      <th>1</th>\n",
       "      <td>1</td>\n",
       "      <td>85</td>\n",
       "      <td>66</td>\n",
       "      <td>29</td>\n",
       "      <td>0</td>\n",
       "      <td>26.6</td>\n",
       "      <td>0.351</td>\n",
       "      <td>31</td>\n",
       "      <td>0</td>\n",
       "    </tr>\n",
       "    <tr>\n",
       "      <th>2</th>\n",
       "      <td>8</td>\n",
       "      <td>183</td>\n",
       "      <td>64</td>\n",
       "      <td>0</td>\n",
       "      <td>0</td>\n",
       "      <td>23.3</td>\n",
       "      <td>0.672</td>\n",
       "      <td>32</td>\n",
       "      <td>1</td>\n",
       "    </tr>\n",
       "    <tr>\n",
       "      <th>3</th>\n",
       "      <td>1</td>\n",
       "      <td>89</td>\n",
       "      <td>66</td>\n",
       "      <td>23</td>\n",
       "      <td>94</td>\n",
       "      <td>28.1</td>\n",
       "      <td>0.167</td>\n",
       "      <td>21</td>\n",
       "      <td>0</td>\n",
       "    </tr>\n",
       "    <tr>\n",
       "      <th>4</th>\n",
       "      <td>0</td>\n",
       "      <td>137</td>\n",
       "      <td>40</td>\n",
       "      <td>35</td>\n",
       "      <td>168</td>\n",
       "      <td>43.1</td>\n",
       "      <td>2.288</td>\n",
       "      <td>33</td>\n",
       "      <td>1</td>\n",
       "    </tr>\n",
       "  </tbody>\n",
       "</table>\n",
       "</div>"
      ],
      "text/plain": [
       "   Pregnancies  Glucose  BloodPressure  SkinThickness  Insulin   BMI  \\\n",
       "0            6      148             72             35        0  33.6   \n",
       "1            1       85             66             29        0  26.6   \n",
       "2            8      183             64              0        0  23.3   \n",
       "3            1       89             66             23       94  28.1   \n",
       "4            0      137             40             35      168  43.1   \n",
       "\n",
       "   DiabetesPedigreeFunction  Age  Outcome  \n",
       "0                     0.627   50        1  \n",
       "1                     0.351   31        0  \n",
       "2                     0.672   32        1  \n",
       "3                     0.167   21        0  \n",
       "4                     2.288   33        1  "
      ]
     },
     "execution_count": 2,
     "metadata": {},
     "output_type": "execute_result"
    }
   ],
   "source": [
    "# Load Dataset\n",
    "df = pd.read_csv(\"diabetes.csv\")\n",
    "df.head()"
   ]
  },
  {
   "cell_type": "code",
   "execution_count": 3,
   "id": "7518ed8a-b44f-447e-92e1-fc3309043e5e",
   "metadata": {
    "scrolled": true
   },
   "outputs": [
    {
     "data": {
      "text/html": [
       "<div>\n",
       "<style scoped>\n",
       "    .dataframe tbody tr th:only-of-type {\n",
       "        vertical-align: middle;\n",
       "    }\n",
       "\n",
       "    .dataframe tbody tr th {\n",
       "        vertical-align: top;\n",
       "    }\n",
       "\n",
       "    .dataframe thead th {\n",
       "        text-align: right;\n",
       "    }\n",
       "</style>\n",
       "<table border=\"1\" class=\"dataframe\">\n",
       "  <thead>\n",
       "    <tr style=\"text-align: right;\">\n",
       "      <th></th>\n",
       "      <th>Pregnancies</th>\n",
       "      <th>Glucose</th>\n",
       "      <th>BloodPressure</th>\n",
       "      <th>SkinThickness</th>\n",
       "      <th>Insulin</th>\n",
       "      <th>BMI</th>\n",
       "      <th>DiabetesPedigreeFunction</th>\n",
       "      <th>Age</th>\n",
       "      <th>Outcome</th>\n",
       "    </tr>\n",
       "  </thead>\n",
       "  <tbody>\n",
       "    <tr>\n",
       "      <th>0</th>\n",
       "      <td>6</td>\n",
       "      <td>148.0</td>\n",
       "      <td>72</td>\n",
       "      <td>35</td>\n",
       "      <td>0</td>\n",
       "      <td>33.6</td>\n",
       "      <td>0.627</td>\n",
       "      <td>50</td>\n",
       "      <td>1</td>\n",
       "    </tr>\n",
       "    <tr>\n",
       "      <th>1</th>\n",
       "      <td>1</td>\n",
       "      <td>85.0</td>\n",
       "      <td>66</td>\n",
       "      <td>29</td>\n",
       "      <td>0</td>\n",
       "      <td>26.6</td>\n",
       "      <td>0.351</td>\n",
       "      <td>31</td>\n",
       "      <td>0</td>\n",
       "    </tr>\n",
       "    <tr>\n",
       "      <th>2</th>\n",
       "      <td>8</td>\n",
       "      <td>183.0</td>\n",
       "      <td>64</td>\n",
       "      <td>0</td>\n",
       "      <td>0</td>\n",
       "      <td>23.3</td>\n",
       "      <td>0.672</td>\n",
       "      <td>32</td>\n",
       "      <td>1</td>\n",
       "    </tr>\n",
       "    <tr>\n",
       "      <th>3</th>\n",
       "      <td>1</td>\n",
       "      <td>89.0</td>\n",
       "      <td>66</td>\n",
       "      <td>23</td>\n",
       "      <td>94</td>\n",
       "      <td>28.1</td>\n",
       "      <td>0.167</td>\n",
       "      <td>21</td>\n",
       "      <td>0</td>\n",
       "    </tr>\n",
       "    <tr>\n",
       "      <th>4</th>\n",
       "      <td>0</td>\n",
       "      <td>137.0</td>\n",
       "      <td>40</td>\n",
       "      <td>35</td>\n",
       "      <td>168</td>\n",
       "      <td>43.1</td>\n",
       "      <td>2.288</td>\n",
       "      <td>33</td>\n",
       "      <td>1</td>\n",
       "    </tr>\n",
       "  </tbody>\n",
       "</table>\n",
       "</div>"
      ],
      "text/plain": [
       "   Pregnancies  Glucose  BloodPressure  SkinThickness  Insulin   BMI  \\\n",
       "0            6    148.0             72             35        0  33.6   \n",
       "1            1     85.0             66             29        0  26.6   \n",
       "2            8    183.0             64              0        0  23.3   \n",
       "3            1     89.0             66             23       94  28.1   \n",
       "4            0    137.0             40             35      168  43.1   \n",
       "\n",
       "   DiabetesPedigreeFunction  Age  Outcome  \n",
       "0                     0.627   50        1  \n",
       "1                     0.351   31        0  \n",
       "2                     0.672   32        1  \n",
       "3                     0.167   21        0  \n",
       "4                     2.288   33        1  "
      ]
     },
     "execution_count": 3,
     "metadata": {},
     "output_type": "execute_result"
    }
   ],
   "source": [
    "# Handling zero values in 'Glucose' column\n",
    "df['Glucose']=np.where(df['Glucose']==0,df['Glucose'].median(),df['Glucose'])\n",
    "df.head()"
   ]
  },
  {
   "cell_type": "code",
   "execution_count": 4,
   "id": "170681f6-f1e9-42bd-83b2-6cc32bb76580",
   "metadata": {},
   "outputs": [],
   "source": [
    "# Dependent and Independent Columns\n",
    "X = df.drop(\"Outcome\", axis=1)\n",
    "y = df[\"Outcome\"]"
   ]
  },
  {
   "cell_type": "code",
   "execution_count": 5,
   "id": "7dbc64f3-8382-42d4-b576-583362eda952",
   "metadata": {},
   "outputs": [],
   "source": [
    "# Apply Feature Scaling\n",
    "scaler = StandardScaler()\n",
    "X_scaled = scaler.fit_transform(X)"
   ]
  },
  {
   "cell_type": "code",
   "execution_count": 6,
   "id": "c7bbd5c8-0af5-4c30-a667-fb9a75e3595e",
   "metadata": {},
   "outputs": [
    {
     "data": {
      "image/png": "[encoded data removed]",
      "text/plain": [
       "<Figure size 600x400 with 1 Axes>"
      ]
     },
     "metadata": {},
     "output_type": "display_data"
    }
   ],
   "source": [
    "# Visualizing class imbalance\n",
    "plt.figure(figsize=(6,4))\n",
    "sns.barplot(x=df[\"Outcome\"].value_counts().index, y=df[\"Outcome\"].value_counts().values, palette=\"viridis\")\n",
    "plt.xlabel(\"Class Labels\")\n",
    "plt.ylabel(\"Count\")\n",
    "plt.title(\"Class Distribution in the Dataset\")\n",
    "plt.xticks([0,1], labels=[\"Non-Diabetic (0)\", \"Diabetic (1)\"])\n",
    "plt.show()"
   ]
  },
  {
   "cell_type": "code",
   "execution_count": 7,
   "id": "24540a48-7c6b-423f-9b73-c4395fbcba13",
   "metadata": {},
   "outputs": [],
   "source": [
    "# Handle Class Imbalance using SMOTE\n",
    "smote = SMOTE(random_state=42)\n",
    "X_resampled, y_resampled = smote.fit_resample(X_scaled, y)"
   ]
  },
  {
   "cell_type": "code",
   "execution_count": 8,
   "id": "66edb8be-6936-43b4-8812-86aad880f7f7",
   "metadata": {},
   "outputs": [],
   "source": [
    "# Split Data\n",
    "X_train, X_test, y_train, y_test = train_test_split(X_resampled, y_resampled, test_size=0.2, random_state=42)"
   ]
  },
  {
   "cell_type": "markdown",
   "id": "2889f238-2dee-4c29-a39b-5318d42b1b6b",
   "metadata": {},
   "source": [
    "### Baseline Model"
   ]
  },
  {
   "cell_type": "code",
   "execution_count": 9,
   "id": "4512cd5c-dcf0-43de-b7f2-86a41bae5b0a",
   "metadata": {},
   "outputs": [
    {
     "name": "stdout",
     "output_type": "stream",
     "text": [
      "Baseline Accuracy: 0.8150\n",
      "Baseline ROC AUC Score: 0.8145\n"
     ]
    }
   ],
   "source": [
    "rf = RandomForestClassifier(random_state=42)\n",
    "rf.fit(X_train, y_train)\n",
    "y_pred = rf.predict(X_test)\n",
    "\n",
    "baseline_accuracy = accuracy_score(y_test, y_pred)\n",
    "baseline_roc_auc = roc_auc_score(y_test, y_pred)\n",
    "\n",
    "print(f\"Baseline Accuracy: {baseline_accuracy:.4f}\")\n",
    "print(f\"Baseline ROC AUC Score: {baseline_roc_auc:.4f}\")\n",
    "\n",
    "# Store results\n",
    "results = {\"Baseline\": {\"Accuracy\": baseline_accuracy, \"ROC AUC\": baseline_roc_auc}}"
   ]
  },
  {
   "cell_type": "markdown",
   "id": "fb7413ca-0c38-4802-b35d-a2dba94ac823",
   "metadata": {},
   "source": [
    "### Manual Hyperparameter Tuning"
   ]
  },
  {
   "cell_type": "code",
   "execution_count": 10,
   "id": "38f2f51c-90b6-41f4-94ad-8c2d4257acc1",
   "metadata": {},
   "outputs": [
    {
     "name": "stdout",
     "output_type": "stream",
     "text": [
      "Accuracy: 0.78\n",
      "ROC AUC Score: 0.7796779677967796\n"
     ]
    }
   ],
   "source": [
    "# Train the model with some parameters\n",
    "model = RandomForestClassifier(n_estimators=200,criterion='entropy',\n",
    "                             max_features='sqrt',min_samples_leaf=10, random_state=42).fit(X_train, y_train)\n",
    "\n",
    "# Predictions\n",
    "y_pred = model.predict(X_test)\n",
    "\n",
    "# Print evaluation metrics\n",
    "print(\"Accuracy:\", accuracy_score(y_test, y_pred))\n",
    "print(\"ROC AUC Score:\", roc_auc_score(y_test, y_pred))\n"
   ]
  },
  {
   "cell_type": "markdown",
   "id": "89069fe6-c11e-4f36-96fc-132308a32622",
   "metadata": {},
   "source": [
    "### Automated Hyperparameter tuning"
   ]
  },
  {
   "cell_type": "markdown",
   "id": "1bfa3c7c-77d4-479c-b73b-6bd28c38aafa",
   "metadata": {},
   "source": [
    "#### Grid Search"
   ]
  },
  {
   "cell_type": "code",
   "execution_count": 11,
   "id": "881e17c9-eeb5-4d97-a471-a672af3d4f9c",
   "metadata": {},
   "outputs": [
    {
     "name": "stdout",
     "output_type": "stream",
     "text": [
      "Best Params (Grid Search): {'max_depth': 10, 'max_features': 'sqrt', 'min_samples_split': 2, 'n_estimators': 100}\n"
     ]
    }
   ],
   "source": [
    "param_grid = {\n",
    "    'n_estimators': [50, 100, 200],\n",
    "    'max_depth': [None, 10, 20],\n",
    "    'max_features': ['auto', 'sqrt','log2'],\n",
    "    'min_samples_split': [2, 5, 10]\n",
    "}\n",
    "grid_search = GridSearchCV(RandomForestClassifier(random_state=42), param_grid, cv=3, n_jobs=-1, scoring='roc_auc')\n",
    "grid_search.fit(X_train, y_train)\n",
    "y_pred = grid_search.best_estimator_.predict(X_test)\n",
    "results[\"GridSearch\"] = {\"Accuracy\": accuracy_score(y_test, y_pred), \"ROC AUC\": roc_auc_score(y_test, y_pred)}\n",
    "print(f\"Best Params (Grid Search): {grid_search.best_params_}\")"
   ]
  },
  {
   "cell_type": "markdown",
   "id": "7b56066b-604e-4391-b269-1a044997c4d4",
   "metadata": {},
   "source": [
    "#### Randomized Search"
   ]
  },
  {
   "cell_type": "code",
   "execution_count": 12,
   "id": "7de304ac-11c4-40a3-9383-a7e19583be51",
   "metadata": {},
   "outputs": [
    {
     "name": "stdout",
     "output_type": "stream",
     "text": [
      "Best Params (Randomized Search): {'n_estimators': 250, 'min_samples_split': 6, 'max_depth': 30}\n"
     ]
    }
   ],
   "source": [
    "param_dist = {\n",
    "    'n_estimators': np.arange(50, 300, 50),\n",
    "    'max_depth': [None, 10, 20, 30],\n",
    "    'min_samples_split': np.arange(2, 11, 2)\n",
    "}\n",
    "random_search = RandomizedSearchCV(RandomForestClassifier(random_state=42), param_distributions=param_dist, n_iter=10, cv=3, n_jobs=-1, scoring='roc_auc')\n",
    "random_search.fit(X_train, y_train)\n",
    "y_pred = random_search.best_estimator_.predict(X_test)\n",
    "results[\"RandomizedSearch\"] = {\"Accuracy\": accuracy_score(y_test, y_pred), \"ROC AUC\": roc_auc_score(y_test, y_pred)}\n",
    "print(f\"Best Params (Randomized Search): {random_search.best_params_}\")"
   ]
  },
  {
   "cell_type": "markdown",
   "id": "0720388c-022b-45ca-9da7-ed696c88ab72",
   "metadata": {},
   "source": [
    "#### Bayesian Optimization (Hyperopt)"
   ]
  },
  {
   "cell_type": "code",
   "execution_count": 13,
   "id": "3ad97a2a-dc30-4355-8271-ddaad4240551",
   "metadata": {},
   "outputs": [
    {
     "name": "stdout",
     "output_type": "stream",
     "text": [
      "100%|███████████████████████████████████████████████| 10/10 [00:02<00:00,  4.93trial/s, best loss: -0.8095809580958095]\n",
      "Best Params (Hyperopt): {'n_estimators': 100, 'max_depth': 20, 'min_samples_split': 2}\n"
     ]
    }
   ],
   "source": [
    "def objective(params):\n",
    "    model = RandomForestClassifier(**params, random_state=42)\n",
    "    model.fit(X_train, y_train)\n",
    "    y_pred = model.predict(X_test)\n",
    "    return {'loss': -roc_auc_score(y_test, y_pred), 'status': 'ok'}\n",
    "\n",
    "space = {\n",
    "    'n_estimators': hp.choice('n_estimators', [50, 100, 150, 200, 250]),\n",
    "    'max_depth': hp.choice('max_depth', [None, 10, 20, 30]),\n",
    "    'min_samples_split': hp.choice('min_samples_split', [2, 4, 6, 8, 10])  # Corrected this\n",
    "}\n",
    "\n",
    "trials = Trials()\n",
    "best_params_idx = fmin(fn=objective, space=space, algo=tpe.suggest, max_evals=10, trials=trials)\n",
    "\n",
    "best_params = {\n",
    "    'n_estimators': [50, 100, 150, 200, 250][best_params_idx['n_estimators']],\n",
    "    'max_depth': [None, 10, 20, 30][best_params_idx['max_depth']],\n",
    "    'min_samples_split': [2, 4, 6, 8, 10][best_params_idx['min_samples_split']]\n",
    "}\n",
    "\n",
    "best_model = RandomForestClassifier(**best_params, random_state=42)\n",
    "best_model.fit(X_train, y_train)\n",
    "y_pred = best_model.predict(X_test)\n",
    "\n",
    "results[\"Hyperopt\"] = {\n",
    "    \"Accuracy\": accuracy_score(y_test, y_pred),\n",
    "    \"ROC AUC\": roc_auc_score(y_test, y_pred)\n",
    "}\n",
    "\n",
    "print(f\"Best Params (Hyperopt): {best_params}\")"
   ]
  },
  {
   "cell_type": "markdown",
   "id": "ec0be4e6-2408-43b1-aa58-2d4957210bcb",
   "metadata": {},
   "source": [
    "#### Sequential Model-Based Optimization (Skopt)"
   ]
  },
  {
   "cell_type": "code",
   "execution_count": 14,
   "id": "b093199b-4148-4ed1-8970-266c9c083c8d",
   "metadata": {},
   "outputs": [
    {
     "name": "stdout",
     "output_type": "stream",
     "text": [
      "Best Params (Skopt): OrderedDict({'max_depth': None, 'min_samples_split': 2, 'n_estimators': 150})\n"
     ]
    }
   ],
   "source": [
    "skopt_search = BayesSearchCV(RandomForestClassifier(random_state=42), param_dist, n_iter=10, cv=3, n_jobs=-1, scoring='roc_auc')\n",
    "skopt_search.fit(X_train, y_train)\n",
    "y_pred = skopt_search.best_estimator_.predict(X_test)\n",
    "results[\"Skopt\"] = {\"Accuracy\": accuracy_score(y_test, y_pred), \"ROC AUC\": roc_auc_score(y_test, y_pred)}\n",
    "print(f\"Best Params (Skopt): {skopt_search.best_params_}\")"
   ]
  },
  {
   "cell_type": "markdown",
   "id": "d5fc969f-ad4a-4014-8d77-2ba976539ba5",
   "metadata": {},
   "source": [
    "#### Optuna Optimization"
   ]
  },
  {
   "cell_type": "code",
   "execution_count": 15,
   "id": "9937878b-3eae-426d-bd8c-5b25accdee9a",
   "metadata": {},
   "outputs": [
    {
     "name": "stdout",
     "output_type": "stream",
     "text": [
      "Best Params (Optuna): {'n_estimators': 50, 'max_depth': 20, 'min_samples_split': 6}\n"
     ]
    }
   ],
   "source": [
    "def optuna_objective(trial):\n",
    "    params = {\n",
    "        'n_estimators': trial.suggest_int('n_estimators', 50, 300, 50),\n",
    "        'max_depth': trial.suggest_categorical('max_depth', [None, 10, 20, 30]),\n",
    "        'min_samples_split': trial.suggest_int('min_samples_split', 2, 10, 2)\n",
    "    }\n",
    "    model = RandomForestClassifier(**params, random_state=42)\n",
    "    model.fit(X_train, y_train)\n",
    "    y_pred = model.predict(X_test)\n",
    "    return roc_auc_score(y_test, y_pred)\n",
    "\n",
    "study = optuna.create_study(direction='maximize')\n",
    "study.optimize(optuna_objective, n_trials=10)\n",
    "y_pred = RandomForestClassifier(**study.best_params, random_state=42).fit(X_train, y_train).predict(X_test)\n",
    "results[\"Optuna\"] = {\"Accuracy\": accuracy_score(y_test, y_pred), \"ROC AUC\": roc_auc_score(y_test, y_pred)}\n",
    "print(f\"Best Params (Optuna): {study.best_params}\")"
   ]
  },
  {
   "cell_type": "markdown",
   "id": "c8ce0cce-a07b-4294-9208-6a613d90ee9f",
   "metadata": {},
   "source": [
    "#### Genetic Algorithm (TPOT)"
   ]
  },
  {
   "cell_type": "code",
   "execution_count": 16,
   "id": "9a7d721d-03e7-42e4-a03a-66eaefa41063",
   "metadata": {},
   "outputs": [
    {
     "data": {
      "application/vnd.jupyter.widget-view+json": {
       "model_id": "",
       "version_major": 2,
       "version_minor": 0
      },
      "text/plain": [
       "Optimization Progress:   0%|          | 0/120 [00:00<?, ?pipeline/s]"
      ]
     },
     "metadata": {},
     "output_type": "display_data"
    },
    {
     "name": "stdout",
     "output_type": "stream",
     "text": [
      "\n",
      "Generation 1 - Current best internal CV score: 0.8125\n",
      "\n",
      "Generation 2 - Current best internal CV score: 0.8125\n",
      "\n",
      "Generation 3 - Current best internal CV score: 0.8125\n",
      "\n",
      "Generation 4 - Current best internal CV score: 0.8125\n",
      "\n",
      "Generation 5 - Current best internal CV score: 0.8137500000000001\n",
      "\n",
      "Best pipeline: ExtraTreesClassifier(CombineDFs(ExtraTreesClassifier(input_matrix, bootstrap=False, criterion=entropy, max_features=0.7500000000000001, min_samples_leaf=4, min_samples_split=16, n_estimators=100), input_matrix), bootstrap=False, criterion=gini, max_features=0.9000000000000001, min_samples_leaf=7, min_samples_split=10, n_estimators=100)\n",
      "Best Pipeline (TPOT): Pipeline(steps=[('featureunion',\n",
      "                 FeatureUnion(transformer_list=[('stackingestimator',\n",
      "                                                 StackingEstimator(estimator=ExtraTreesClassifier(criterion='entropy',\n",
      "                                                                                                  max_features=0.7500000000000001,\n",
      "                                                                                                  min_samples_leaf=4,\n",
      "                                                                                                  min_samples_split=16,\n",
      "                                                                                                  random_state=42))),\n",
      "                                                ('functiontransformer',\n",
      "                                                 FunctionTransformer(func=<function copy at 0x0000029322BC8CC0>))])),\n",
      "                ('extratreesclassifier',\n",
      "                 ExtraTreesClassifier(max_features=0.9000000000000001,\n",
      "                                      min_samples_leaf=7, min_samples_split=10,\n",
      "                                      random_state=42))])\n"
     ]
    }
   ],
   "source": [
    "tpot = TPOTClassifier(generations=5, population_size=20, verbosity=2, random_state=42)\n",
    "tpot.fit(X_train, y_train)\n",
    "y_pred = tpot.predict(X_test)\n",
    "results[\"TPOT\"] = {\"Accuracy\": accuracy_score(y_test, y_pred), \"ROC AUC\": roc_auc_score(y_test, y_pred)}\n",
    "print(f\"Best Pipeline (TPOT): {tpot.fitted_pipeline_}\")"
   ]
  },
  {
   "cell_type": "markdown",
   "id": "d1242269-eb90-4e90-9543-fd1c00b028b8",
   "metadata": {},
   "source": [
    "### Conclusion - Final results"
   ]
  },
  {
   "cell_type": "code",
   "execution_count": 17,
   "id": "c6ef171a-6a12-46dc-97d1-4be5af745caf",
   "metadata": {},
   "outputs": [
    {
     "name": "stdout",
     "output_type": "stream",
     "text": [
      "{'Baseline': {'Accuracy': 0.815, 'ROC AUC': 0.8145314531453145}, 'GridSearch': {'Accuracy': 0.815, 'ROC AUC': 0.8145314531453145}, 'RandomizedSearch': {'Accuracy': 0.785, 'ROC AUC': 0.7846284628462845}, 'Hyperopt': {'Accuracy': 0.81, 'ROC AUC': 0.8095809580958095}, 'Skopt': {'Accuracy': 0.81, 'ROC AUC': 0.8094809480948095}, 'Optuna': {'Accuracy': 0.795, 'ROC AUC': 0.7946294629462946}, 'TPOT': {'Accuracy': 0.8, 'ROC AUC': 0.7997799779977998}}\n"
     ]
    }
   ],
   "source": [
    "print(results)"
   ]
  }
 ],
 "metadata": {
  "kernelspec": {
   "display_name": "Python 3 (ipykernel)",
   "language": "python",
   "name": "python3"
  },
  "language_info": {
   "codemirror_mode": {
    "name": "ipython",
    "version": 3
   },
   "file_extension": ".py",
   "mimetype": "text/x-python",
   "name": "python",
   "nbconvert_exporter": "python",
   "pygments_lexer": "ipython3",
   "version": "3.12.3"
  }
 },
 "nbformat": 4,
 "nbformat_minor": 5
}
